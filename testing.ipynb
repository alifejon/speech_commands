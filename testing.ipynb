{
 "cells": [
  {
   "cell_type": "code",
   "execution_count": 59,
   "metadata": {
    "scrolled": true
   },
   "outputs": [],
   "source": [
    "import pandas as pd\n",
    "to_keep = 'yes no up down left right on off stop go silence unknown'.split()\n",
    "\n",
    "sampleDF = pd.read_csv('~/Downloads/sample_submission.csv')\n",
    "\n",
    "for idx in range(len(to_keep)):\n",
    "    sampleDF['label'] = sampleDF.apply(lambda x: to_keep[idx], axis=1)\n",
    "    sampleDF.to_csv('~/Downloads/first_random_%s.csv' % to_keep[idx], index=False)"
   ]
  },
  {
   "cell_type": "code",
   "execution_count": 54,
   "metadata": {},
   "outputs": [
    {
     "data": {
      "text/plain": [
       "fname      no\n",
       "label    down\n",
       "dtype: object"
      ]
     },
     "execution_count": 54,
     "metadata": {},
     "output_type": "execute_result"
    }
   ],
   "source": [
    "import numpy as np\n",
    "\n",
    "to_keep[np.random.randint(len(to_keep))]\n",
    "sampleDF.apply(lambda x: to_keep[np.random.randint(len(to_keep))])"
   ]
  },
  {
   "cell_type": "code",
   "execution_count": 1,
   "metadata": {},
   "outputs": [],
   "source": [
    "import webrtcvad\n",
    "vad = webrtcvad.Vad()"
   ]
  }
 ],
 "metadata": {
  "kernelspec": {
   "display_name": "Python 3",
   "language": "python",
   "name": "python3"
  },
  "language_info": {
   "codemirror_mode": {
    "name": "ipython",
    "version": 3
   },
   "file_extension": ".py",
   "mimetype": "text/x-python",
   "name": "python",
   "nbconvert_exporter": "python",
   "pygments_lexer": "ipython3",
   "version": "3.5.2"
  }
 },
 "nbformat": 4,
 "nbformat_minor": 2
}
